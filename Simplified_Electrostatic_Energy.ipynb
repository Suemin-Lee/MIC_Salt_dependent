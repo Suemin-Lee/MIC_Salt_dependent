{
 "cells": [
  {
   "cell_type": "code",
   "execution_count": 1,
   "id": "d3000484",
   "metadata": {},
   "outputs": [],
   "source": [
    "#!/usr/bin/env python\n",
    "# coding: utf-8\n",
    "\n",
    "import numpy as np\n",
    "import scipy.integrate as integrate\n",
    "import scipy.special as special\n",
    "from scipy.optimize import minimize\n",
    "import matplotlib.pyplot as plt\n",
    "from itertools import chain\n",
    "from scipy.optimize import fmin\n",
    "\n",
    "\n",
    "import warnings\n",
    "warnings.filterwarnings(\"ignore\")\n",
    "\n",
    "import os\n",
    "if not os.path.exists('plots/'):\n",
    "    os.mkdir('plots')\n",
    "if not os.path.exists('data_saved/'):\n",
    "    os.mkdir('data_saved')\n",
    "\n"
   ]
  },
  {
   "cell_type": "code",
   "execution_count": 2,
   "id": "6255c9b9",
   "metadata": {},
   "outputs": [],
   "source": [
    "# Experimental data for NaCl MIC\n",
    "NaCl_initial = [ 0.5 ,1.0, 1.5, 2.0, 2.5] \n",
    "NaCl_M = [i*0.1 for i in NaCl_initial]\n",
    "NaCl_mM = [i*100 for i in NaCl_initial]\n",
    "MIC_NaCl = [ 1.12, 1.25, 1.62 ,1.75, 2 ] #units µM\n",
    "\n",
    "# Change NaCl concentration to kappa length\n",
    "def m_mol_to_kappa(mol):\n",
    "    Molar = mol * 10**(-3)  # mili Mol to Mol\n",
    "    kappa = 0.304/np.sqrt(Molar)*10 #Length unit in amstrong\n",
    "    return 1/ kappa\n",
    "kappa_range = [m_mol_to_kappa(mol) for mol in NaCl_mM ]\n",
    "# print(kappa_range)\n"
   ]
  },
  {
   "cell_type": "code",
   "execution_count": 3,
   "id": "ca89084d",
   "metadata": {},
   "outputs": [],
   "source": [
    "# Constant parameter defined\n",
    "Eps         = 8.85e-12;               #Vacume permitivity (coloum^2/Jm)         \n",
    "T           = 277;                    #Tempreture (kelvin)\n",
    "Kb          = 1.38*1e-23;             #Boltzmann Constant (J/kelvin)\n",
    "Dw          = 80;                     #Water dielectric constant\n",
    "NA          = 6.023*1e+23;            #Avagadro's number\n",
    "V           = 1e27;                   #Total volume in (A^3) \n",
    "ele         = 1.6e-19;                #Electron Charge\n",
    "lb          = ele**2*1e+10/(4*np.pi*Eps*Dw*Kb*T);   #% Bjerrum Length (A)\n",
    "\n",
    "# Peptide parameter defined \n",
    "Q = 6;      # Peptide charge for peptide LL-37\n",
    "A1 = 725;  # n*alpha*f_0 : total area of lipid\n",
    "f_A = 0.26;  # Fraction of anionic lipids\n",
    "a0 = 71;   # Surface area per lipid\n",
    "\n",
    "b = 4.1; # Twice the persistence length of melittin (length of one monomer amino acid) \n",
    "N = 37;  # number of amino acids (LL-37)\n",
    "\n",
    "\n",
    "# Simplified electrostatic binding Energy\n",
    "def electrostatic_E(kappa):\n",
    "    # F_el_s component: electrostatic free energy of a charged surface     \n",
    "    sig_net= (Q/A1) -(f_A/a0)\n",
    "    phi_0 = 2*  np.arcsinh((2*np.pi*lb*sig_net)/kappa)\n",
    "    f_plate = (sig_net *phi_0)  -((kappa/(np.pi*lb))*(np.cosh(phi_0/2)-1))\n",
    "    f_el_S = f_plate*A1\n",
    "\n",
    "    # F_el_s_0 component: electrostatic free energy on unbound peptide states of [F_el_s]\n",
    "    sig_0 = -(f_A/a0)\n",
    "    phi_00 = 2* np.arcsinh((2*np.pi*lb*sig_0)/kappa)\n",
    "    f_plate_0 = (sig_0 *phi_00 ) - ((kappa/(np.pi*lb))*(np.cosh(phi_00/2)-1))\n",
    "    f_el_S_0 = f_plate_0*A1\n",
    "    \n",
    "    # F_el_L component: electrostatic self energy of a free ligand in solution \n",
    "    lambda2 = .126 # lambda2 = e^2/(4*eps*r0*kT)\n",
    "    r0 = 15   #radius of the peptide ([A] Angstrom)\n",
    "    lambda3 = kappa*r0\n",
    "    f_el_L = (2*Q**2 *lambda2)/(1+lambda3)\n",
    "\n",
    "    del_F = f_el_S - f_el_S_0 - f_el_L \n",
    "    return del_F\n"
   ]
  },
  {
   "cell_type": "markdown",
   "id": "e88ea196",
   "metadata": {},
   "source": [
    "#  Compute Binding Energy "
   ]
  },
  {
   "cell_type": "code",
   "execution_count": 6,
   "id": "298f7e89",
   "metadata": {},
   "outputs": [
    {
     "name": "stdout",
     "output_type": "stream",
     "text": [
      "Wb range =  [-11.961881632496386, -11.627775443350263, -11.441688599413855, -11.316773005558721, -11.224589331335693]\n"
     ]
    },
    {
     "data": {
      "image/png": "[encoded data removed]",
      "text/plain": [
       "<Figure size 324x288 with 1 Axes>"
      ]
     },
     "metadata": {
      "needs_background": "light"
     },
     "output_type": "display_data"
    }
   ],
   "source": [
    "\n",
    "# hydrophobic = -16.3 - electrostatic_E(kappa_range[1])\n",
    "hydrophobic = -10 # Assuming that the hydrophobic energy being -10[kbT]\n",
    "wb_range =[]\n",
    "\n",
    "for kappa in kappa_range:\n",
    "    ele = electrostatic_E(kappa)\n",
    "    bindingE = hydrophobic+ele \n",
    "    wb_range.append(bindingE)\n",
    "\n",
    "print('Wb range = ',wb_range)\n",
    "# print('del F  =',wb_range[-1]-wb_range[1])\n",
    "\n",
    "plt.figure(figsize=(4.5,4))\n",
    "plt.plot(NaCl_mM,wb_range,'-*')\n",
    "plt.xlabel('NaCl Concentration (100mM)' , fontsize = 15)\n",
    "plt.ylabel('Binding E (KbT)', fontsize = 15)\n",
    "plt.tight_layout()\n",
    "\n"
   ]
  },
  {
   "cell_type": "markdown",
   "id": "88843629",
   "metadata": {},
   "source": [
    "# Compare between experimetal and theoretical Binding E"
   ]
  },
  {
   "cell_type": "code",
   "execution_count": 22,
   "id": "70bd0cea",
   "metadata": {},
   "outputs": [],
   "source": [
    "# Function defined for MIC and binding E \n",
    "\n",
    "w_B  = -16.6        #bacteria            # w_b = -16.6kbT\n",
    "w_H  = -7.54      #host                # w_h = -6.72kbT\n",
    "A_p = 400           #Amstrong square\n",
    "v_p = 33**3         #Amstrong cube\n",
    "A_B = 400           #Amstrong square (Surface area of each cells)\n",
    "A_H = A_B        #Amstrong square\n",
    "a_B = 71            #Amstrong square (Area of each lipids)\n",
    "a_H = 74             #Angstrom square \n",
    "A_t = 12*10**8 #Ah and Ab\n",
    "At = 12*10**8 #Ah and Ab\n",
    "\n",
    "\n",
    "# Priminary Constant values\n",
    "avo_con = 6.023*10**23 #Avogadro constant ==> 6.022 × 10^23 mol^(-1)\n",
    "mu_M_unit = 10**-6*avo_con *10**-27\n",
    "unit =10**-24 #(unit conversion)\n",
    "PL_B=1/48; PL_H=1/99; # Original thershold value for mellatin\n",
    "# PL_B = 0.17699496922894759 # Assuming binding energy -16.3kbT @kappa =0.1 (with MIC_0 =1.2[micro M])\n",
    "PL_B = 0.1345395663614183 # Assuming binding energy -11.7kbT @kappa =0.1 (with MIC_0 =1.2[micro M])\n",
    "\n",
    "\n",
    "def MIC_non_competitive_membrane(CB, w_B, PL_B):    \n",
    "\n",
    "    MIC_0 = 1/v_p* A_B/a_B * PL_B /(1-  A_B/a_B * PL_B)*(np.exp(w_B))\n",
    "    eq1   = (PL_B*At/a_B ) *CB*unit +  MIC_0\n",
    "    Cp    = eq1/mu_M_unit    \n",
    "    return Cp\n",
    "\n",
    "def bindingE_MIC_non_compet(MIC ,CB, P_LI):\n",
    "    # Function return binding energy for bacteria cell\n",
    "    \n",
    "    NA = 6.023*1e+23;           # %Avagadro's number\n",
    "    vp = 33**3;                 #  melittin random coil's volume\n",
    "    Ap_ent = 400;               # Physical Area per peptide\n",
    "    TresholdB = PL_B\n",
    "    Ab = 2*6e-12*1e20  #%2*6e-12*1e20; # %Surface area of bacterium's membrane(twice of E-coli) (m^2*1e20 = A^2)\n",
    "    alb = 71;# %67.3;%71; %65\n",
    "\n",
    "    # % Calculate Langmuir-like binding energy from one data set (MIC_Ct0 , Ct0_B) of full analysis\n",
    "    MIC_Ct0 = MIC*((1e-6)*NA*(1e-27));\n",
    "    CB= CB *1e-24;\n",
    "    wB = np.log((MIC_Ct0 - Ab/alb*PL_B*CB)*\n",
    "            vp*(1-Ap_ent/alb*PL_B)/(Ap_ent/alb*PL_B))\n",
    "\n",
    "    return wB\n",
    "\n"
   ]
  },
  {
   "cell_type": "code",
   "execution_count": 41,
   "id": "1933bdb2",
   "metadata": {},
   "outputs": [
    {
     "name": "stdout",
     "output_type": "stream",
     "text": [
      "[-11.769009725980192, -11.659193107092452, -11.399907060008507, -11.32271655570148, -11.189183814715225]\n",
      "0.5798259112649671\n"
     ]
    },
    {
     "data": {
      "image/png": "[encoded data removed]",
      "text/plain": [
       "<Figure size 324x288 with 1 Axes>"
      ]
     },
     "metadata": {
      "needs_background": "light"
     },
     "output_type": "display_data"
    }
   ],
   "source": [
    "# Binding Energy extraction from experimental data\n",
    "\n",
    "plt.figure(figsize = (4.5,4))\n",
    "# CB_range = [5*10**(i) for i in range(1,6,2)]\n",
    "CB_range = [5*10**(3)]\n",
    "\n",
    "for CB in CB_range: \n",
    "    Wb_values=[]\n",
    "    for Cp in MIC_NaCl: \n",
    "        Wb_values.append(bindingE_MIC_non_compet(Cp,CB,PL_B))\n",
    "    print(Wb_values)\n",
    "    print(Wb_values[-1]-Wb_values[0])\n",
    "    plt.plot(NaCl_initial, Wb_values,'o',label=r'Experimentally predicted $W_b^*$')\n",
    "\n",
    "plt.plot(NaCl_initial,wb_range,'--*',label=r'Theoretically predicted $W_b^*$')\n",
    "plt.xlabel('NaCl Concentration (100mM)' , fontsize = 15)\n",
    "plt.ylabel('Binding Energy (KbT)', fontsize = 15)\n",
    "plt.legend()\n",
    "plt.tight_layout()\n",
    "plt.savefig('plots/'+('kappa_change_bindingE_compare_plot')+'.pdf',bbox_inches='tight')\n",
    "\n"
   ]
  },
  {
   "cell_type": "markdown",
   "id": "c1e514a8",
   "metadata": {},
   "source": [
    "# Mapping to Langmuir Model (Compute MIC)"
   ]
  },
  {
   "cell_type": "code",
   "execution_count": 20,
   "id": "8d24b4d5",
   "metadata": {},
   "outputs": [
    {
     "data": {
      "image/png": "[encoded data removed]",
      "text/plain": [
       "<Figure size 360x324 with 1 Axes>"
      ]
     },
     "metadata": {
      "needs_background": "light"
     },
     "output_type": "display_data"
    }
   ],
   "source": [
    "# Mapping to Langmuir Model\n",
    "\n",
    "plt.figure(figsize=(5,4.5))\n",
    "plt.plot(NaCl_initial,MIC_NaCl,'o',label='Experimental MIC data',color ='k')\n",
    "# CB_range = [5*10**(i) for i in range(1,5,2)]\n",
    "CB_range = [5*10**(3)]\n",
    "\n",
    "for CB in CB_range: \n",
    "    MIC_values=[]\n",
    "    for Wb in wb_range: \n",
    "        MIC_values.append(MIC_non_competitive_membrane(CB,Wb,PL_B))\n",
    "    plt.plot(NaCl_initial, MIC_values,'--*',label=r'$C_b$ = %1.0e (cell/ml): Predicted'%(CB),color ='r')\n",
    "plt.xlabel('NaCl Concentration (100mM)' , fontsize = 15)\n",
    "plt.ylabel('MIC ($\\mu$M)', fontsize = 15)\n",
    "plt.legend(fontsize=11)\n",
    "plt.tight_layout()\n",
    "plt.savefig('plots/'+('BindingE_comparison_plot')+'.pdf',bbox_inches='tight')\n",
    "\n"
   ]
  },
  {
   "cell_type": "code",
   "execution_count": null,
   "id": "6a5b37e9",
   "metadata": {},
   "outputs": [],
   "source": []
  }
 ],
 "metadata": {
  "kernelspec": {
   "display_name": "Python 3",
   "language": "python",
   "name": "python3"
  },
  "language_info": {
   "codemirror_mode": {
    "name": "ipython",
    "version": 3
   },
   "file_extension": ".py",
   "mimetype": "text/x-python",
   "name": "python",
   "nbconvert_exporter": "python",
   "pygments_lexer": "ipython3",
   "version": "3.7.10"
  }
 },
 "nbformat": 4,
 "nbformat_minor": 5
}
